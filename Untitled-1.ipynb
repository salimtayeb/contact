{
 "cells": [
  {
   "cell_type": "code",
   "execution_count": null,
   "metadata": {},
   "outputs": [],
   "source": [
    "from datetime import date\n",
    "last_name = \"SALIM\"\n",
    "fisrt_name = \"Tayeb\"\n",
    "phone = 766742501\n",
    "date.fromisoformat('2019-12-04')"
   ]
  }
 ],
 "metadata": {
  "language_info": {
   "name": "python"
  },
  "orig_nbformat": 4
 },
 "nbformat": 4,
 "nbformat_minor": 2
}
