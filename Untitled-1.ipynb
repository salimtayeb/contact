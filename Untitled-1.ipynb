{
 "cells": [
  {
   "cell_type": "code",
   "execution_count": 4,
   "metadata": {},
   "outputs": [
    {
     "name": "stdout",
     "output_type": "stream",
     "text": [
      "SALIM\n",
      "Tayeb\n",
      "0766742501\n",
      "2023-01-25 11:22:00.146701\n"
     ]
    }
   ],
   "source": [
    "from datetime import date\n",
    "last_name = \"SALIM\"\n",
    "first_name = \"Tayeb\"\n",
    "phone = \"0766742501\"\n",
    "creation_date = datetime.today()\n",
    "print(last_name)\n",
    "print(first_name)\n",
    "print(phone)\n",
    "print(creation_date)\n"
   ]
  }
 ],
 "metadata": {
  "kernelspec": {
   "display_name": "Python 3",
   "language": "python",
   "name": "python3"
  },
  "language_info": {
   "codemirror_mode": {
    "name": "ipython",
    "version": 3
   },
   "file_extension": ".py",
   "mimetype": "text/x-python",
   "name": "python",
   "nbconvert_exporter": "python",
   "pygments_lexer": "ipython3",
   "version": "3.11.1"
  },
  "orig_nbformat": 4,
  "vscode": {
   "interpreter": {
    "hash": "03eba0b01c3954435fbebca38b769bae7fadf8e3de9a2ba60ebfbc1dd4c7bebe"
   }
  }
 },
 "nbformat": 4,
 "nbformat_minor": 2
}
