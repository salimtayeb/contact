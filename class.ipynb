{
 "cells": [
  {
   "cell_type": "code",
   "execution_count": 1,
   "metadata": {},
   "outputs": [],
   "source": [
    "from datetime import datetime\n",
    "class Contact(): \n",
    "    def __init__(self, last_name, first_name, phone):\n",
    "        self.last_name =last_name\n",
    "        self.first_name = first_name\n",
    "        self.phone = phone\n",
    "        self.date = datetime.now()\n",
    "        self.date_update = None\n",
    "        \n",
    "    def update(self, phone):\n",
    "        self.phone = phone\n",
    "        self.datetime_update = datetime.now()\n",
    "        "
   ]
  },
  {
   "cell_type": "code",
   "execution_count": 2,
   "metadata": {},
   "outputs": [
    {
     "name": "stdout",
     "output_type": "stream",
     "text": [
      "0687363728\n"
     ]
    }
   ],
   "source": [
    "Tayeb = Contact(\"SALIM\", \"Tayeb\", \"0687363728\")\n",
    "print(Tayeb.phone)"
   ]
  },
  {
   "cell_type": "code",
   "execution_count": 3,
   "metadata": {},
   "outputs": [
    {
     "name": "stdout",
     "output_type": "stream",
     "text": [
      "837728374\n"
     ]
    }
   ],
   "source": [
    "Tayeb.update(\"837728374\")\n",
    "print(Tayeb.phone)"
   ]
  },
  {
   "cell_type": "code",
   "execution_count": null,
   "metadata": {},
   "outputs": [],
   "source": []
  }
 ],
 "metadata": {
  "kernelspec": {
   "display_name": "Python 3",
   "language": "python",
   "name": "python3"
  },
  "language_info": {
   "codemirror_mode": {
    "name": "ipython",
    "version": 3
   },
   "file_extension": ".py",
   "mimetype": "text/x-python",
   "name": "python",
   "nbconvert_exporter": "python",
   "pygments_lexer": "ipython3",
   "version": "3.11.1"
  },
  "orig_nbformat": 4,
  "vscode": {
   "interpreter": {
    "hash": "03eba0b01c3954435fbebca38b769bae7fadf8e3de9a2ba60ebfbc1dd4c7bebe"
   }
  }
 },
 "nbformat": 4,
 "nbformat_minor": 2
}
