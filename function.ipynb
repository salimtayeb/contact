{
 "cells": [
  {
   "cell_type": "code",
   "execution_count": 25,
   "metadata": {},
   "outputs": [],
   "source": [
    "from datetime import datetime\n",
    "def create_contact():\n",
    "    last_name = input(\"last name :\")\n",
    "    first_name = input(\"first name :\")\n",
    "    phone_number = input(\"phone number :\")\n",
    "    creation_date = datetime.today()\n",
    "    nouveau_contact = {\n",
    "        'last_name' : last_name,\n",
    "        'first_name' : first_name,\n",
    "        'phone_number' : phone_number,\n",
    "        'creation_date' : creation_date,\n",
    "        \n",
    "    }\n",
    "    return nouveau_contact\n",
    "\n",
    "contact=create_contact()"
   ]
  },
  {
   "cell_type": "code",
   "execution_count": 26,
   "metadata": {},
   "outputs": [
    {
     "name": "stdout",
     "output_type": "stream",
     "text": [
      "{'last_name': 'Pimpaud', 'first_name': 'Oscar', 'phone_number': '000000', 'creation_date': datetime.datetime(2023, 1, 25, 14, 33, 15, 667515)}\n"
     ]
    }
   ],
   "source": [
    "def show_contact(nouveau_contact):\n",
    "    print(nouveau_contact)\n",
    "    \n",
    "show_contact(contact)\n",
    "    "
   ]
  },
  {
   "cell_type": "code",
   "execution_count": null,
   "metadata": {},
   "outputs": [],
   "source": []
  }
 ],
 "metadata": {
  "kernelspec": {
   "display_name": "Python 3",
   "language": "python",
   "name": "python3"
  },
  "language_info": {
   "codemirror_mode": {
    "name": "ipython",
    "version": 3
   },
   "file_extension": ".py",
   "mimetype": "text/x-python",
   "name": "python",
   "nbconvert_exporter": "python",
   "pygments_lexer": "ipython3",
   "version": "3.11.1"
  },
  "orig_nbformat": 4,
  "vscode": {
   "interpreter": {
    "hash": "03eba0b01c3954435fbebca38b769bae7fadf8e3de9a2ba60ebfbc1dd4c7bebe"
   }
  }
 },
 "nbformat": 4,
 "nbformat_minor": 2
}
