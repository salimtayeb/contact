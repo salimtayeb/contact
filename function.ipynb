{
 "cells": [
  {
   "cell_type": "code",
   "execution_count": 33,
   "metadata": {},
   "outputs": [],
   "source": [
    "from datetime import date\n",
    "def create_contact():\n",
    "    last_name = input(\"last name :\")\n",
    "    first_name = input(\"first name :\")\n",
    "    phone_number = input(\"phone number :\")\n",
    "    creation_date = date.today()\n",
    "    new_contact = {\n",
    "        'last_name :' : last_name , \n",
    "        'first_name :' : first_name,\n",
    "        'phone_number :' : phone_number,\n",
    "        'creation_date :' : creation_date,\n",
    "        \n",
    "    }\n",
    "    return new_contact\n",
    "\n",
    "contact = create_contact()"
   ]
  },
  {
   "cell_type": "code",
   "execution_count": 34,
   "metadata": {},
   "outputs": [
    {
     "name": "stdout",
     "output_type": "stream",
     "text": [
      "last_name : salim\n",
      "first_name : tayeb\n",
      "phone_number : 000000\n",
      "creation_date : 2023-01-25\n"
     ]
    }
   ],
   "source": [
    "def show_contact(new_contact):\n",
    "    for key, value in new_contact.items():\n",
    "        print(key,value)\n",
    "    \n",
    "show_contact(contact)\n",
    "    "
   ]
  },
  {
   "cell_type": "code",
   "execution_count": null,
   "metadata": {},
   "outputs": [],
   "source": []
  }
 ],
 "metadata": {
  "kernelspec": {
   "display_name": "Python 3",
   "language": "python",
   "name": "python3"
  },
  "language_info": {
   "codemirror_mode": {
    "name": "ipython",
    "version": 3
   },
   "file_extension": ".py",
   "mimetype": "text/x-python",
   "name": "python",
   "nbconvert_exporter": "python",
   "pygments_lexer": "ipython3",
   "version": "3.11.1"
  },
  "orig_nbformat": 4,
  "vscode": {
   "interpreter": {
    "hash": "03eba0b01c3954435fbebca38b769bae7fadf8e3de9a2ba60ebfbc1dd4c7bebe"
   }
  }
 },
 "nbformat": 4,
 "nbformat_minor": 2
}
